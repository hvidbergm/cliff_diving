{
 "cells": [
  {
   "cell_type": "code",
   "execution_count": 5,
   "metadata": {},
   "outputs": [
    {
     "name": "stdout",
     "output_type": "stream",
     "text": [
      "Spots: 74\n"
     ]
    },
    {
     "name": "stderr",
     "output_type": "stream",
     "text": [
      "C:\\Users\\hvidb\\AppData\\Local\\Temp\\ipykernel_23828\\783101100.py:18: FutureWarning: The behavior of this method will change in future versions. Use specific 'len(elem)' or 'elem is not None' test instead.\n",
      "  if place.LineString:\n"
     ]
    }
   ],
   "source": [
    "# Imports\n",
    "import pandas as pd\n",
    "from pykml import parser\n",
    "import os\n",
    "from os import path\n",
    "\n",
    "# Functions\n",
    "def extract_all_spots():\n",
    "    # for each file that ends with kml in the files folder, extract the name, description, and coordinates and add them to a dictionary, if the place has a LineString, skip it\n",
    "    places = []\n",
    "    for fileName in os.listdir('files'):\n",
    "        if fileName.endswith('.kml'):\n",
    "            kml_file = path.join(f'files/{fileName}')\n",
    "            with open(kml_file) as f:\n",
    "                doc = parser.parse(f).getroot()\n",
    "            for place in doc.Document.Folder.Placemark:\n",
    "                try:\n",
    "                    if place.LineString:\n",
    "                        continue\n",
    "                except:\n",
    "                    pass\n",
    "                try:\n",
    "                    name = place.name\n",
    "                except:\n",
    "                    name = None\n",
    "                try:\n",
    "                    description = place.description\n",
    "                except:\n",
    "                    description = None\n",
    "                try:\n",
    "                    coordinates = place.Point.coordinates\n",
    "                except:\n",
    "                    coordinates = None\n",
    "                places.append({'name': name, 'description': description, 'coordinates': coordinates})\n",
    "\n",
    "    # convert the dictionary to a dataframe\n",
    "    df = pd.DataFrame(places)\n",
    "    return df\n",
    "\n",
    "def data_cleaning(df):\n",
    "    # store values as strings\n",
    "    df['name'] = df['name'].astype(str)\n",
    "    df['description'] = df['description'].astype(str)\n",
    "    df['coordinates'] = df['coordinates'].astype(str)\n",
    "\n",
    "    # extract the latitude, longitude from the coordinates column\n",
    "    df['latitude'] = df['coordinates'].str.split(',', expand=True)[1]\n",
    "    df['longitude'] = df['coordinates'].str.split(',', expand=True)[0]\n",
    "\n",
    "    # remove first 3 characters from longitude column\n",
    "    df['longitude'] = df['longitude'].str[3:]\n",
    "\n",
    "    # if name starts with \" remove it\n",
    "    df['name'] = df['name'].str.replace('\"', '')\n",
    "\n",
    "    # drop coordinates column\n",
    "    df = df.drop(columns=['coordinates'])\n",
    "\n",
    "    # fill na description with 'missing'\n",
    "    df['description'] = df['description'].fillna('missing')\n",
    "\n",
    "    # drop na\n",
    "    df = df.dropna()\n",
    "\n",
    "    # output\n",
    "    return df\n",
    "\n",
    "# Main\n",
    "df = extract_all_spots()\n",
    "df = data_cleaning(df)\n",
    "df.to_csv('spots.csv', index=False)\n",
    "\n",
    "# Inspect\n",
    "print(f\"Spots: {df.shape[0]}\")"
   ]
  }
 ],
 "metadata": {
  "kernelspec": {
   "display_name": "cliff_diving",
   "language": "python",
   "name": "python3"
  },
  "language_info": {
   "codemirror_mode": {
    "name": "ipython",
    "version": 3
   },
   "file_extension": ".py",
   "mimetype": "text/x-python",
   "name": "python",
   "nbconvert_exporter": "python",
   "pygments_lexer": "ipython3",
   "version": "3.11.3"
  },
  "orig_nbformat": 4
 },
 "nbformat": 4,
 "nbformat_minor": 2
}
